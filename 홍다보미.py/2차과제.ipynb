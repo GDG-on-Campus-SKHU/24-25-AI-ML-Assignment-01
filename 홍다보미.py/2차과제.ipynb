{
 "cells": [
  {
   "cell_type": "code",
   "execution_count": null,
   "metadata": {},
   "outputs": [],
   "source": [
    "from langchain_core.prompts import ChatPromptTemplate\n",
    "from langchain_community.chat_models import ChatOllama\n",
    "\n",
    "\n",
    "\n",
    "mood = input(\"현재 기분을 입력해 주세요: \")\n",
    "\n",
    "\n",
    "template_text = \"사용자의 기분을 입력해 주세요: {{mood}}\\n이 기분에 맞는 노래를 추천해 주세요.\"\n",
    "    \n",
    "prompt_template = ChatPromptTemplate.from_template(template_text)\n",
    "\n",
    "llm = ChatOllama(model=\"llama3.1\")\n",
    "\n",
    "chain = prompt_template|llm\n",
    "\n",
    "\n",
    "    \n",
    "response = chain.invoke({\"input\": mood})\n",
    "\n",
    "    \n",
    "print(\"추천 노래:\", response)\n"
   ]
  }
 ],
 "metadata": {
  "kernelspec": {
   "display_name": "Python 3",
   "language": "python",
   "name": "python3"
  },
  "language_info": {
   "codemirror_mode": {
    "name": "ipython",
    "version": 3
   },
   "file_extension": ".py",
   "mimetype": "text/x-python",
   "name": "python",
   "nbconvert_exporter": "python",
   "pygments_lexer": "ipython3",
   "version": "3.11.9"
  }
 },
 "nbformat": 4,
 "nbformat_minor": 2
}
